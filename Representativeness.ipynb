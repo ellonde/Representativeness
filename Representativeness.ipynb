{
 "cells": [
  {
   "cell_type": "code",
   "execution_count": 34,
   "metadata": {},
   "outputs": [],
   "source": [
    "from sklearn.decomposition import PCA\n",
    "import matplotlib.pyplot as plt\n",
    "import numpy as np\n",
    "from __future__ import division\n",
    "import random\n",
    "%matplotlib inline\n",
    "\n",
    "\n",
    "def small_f(S_a, I_x):\n",
    "    #return the sim of the image in S_a with highest sim with I_x \n",
    "    max_sim = 0\n",
    "    max_sim_idx = 0\n",
    "    for I_sa in S_a:\n",
    "        sim = cos_sim(I_sa, I_x)\n",
    "        if sim > max_sim:\n",
    "            max_sim = sim\n",
    "    \n",
    "    return max_sim\n",
    "    \n",
    "\n",
    "def big_f(S_a, S_u):\n",
    "    #Sum small_f for all images in S_u f_small(S_a, I_from_S_u)\n",
    "    current_sum = 0\n",
    "    for I_su in S_u:\n",
    "        current_sum += small_f(S_a, I_su)\n",
    "    \n",
    "    return current_sum\n",
    "\n",
    "\n",
    "def cos_sim(I_i, I_j):\n",
    "    return np.dot(I_i, I_j.T) / I_i.shape[0] ** 2\n",
    "\n",
    "\n",
    "def max_rep(S_u, S_c, Sc_idx):\n",
    "    S_a_idx = []\n",
    "    S_a = []\n",
    "    \n",
    "    while len(S_a) < small_k:\n",
    "        current_best = 0\n",
    "        current_best_idx = None\n",
    "        for i, img_and_idx in enumerate(zip(S_c, Sc_idx)):\n",
    "            S_a.append(img_and_idx[0])\n",
    "            tmp_score = big_f(S_a, S_u)\n",
    "            if tmp_score > current_best:\n",
    "                current_best = tmp_score\n",
    "                current_best_idx = i\n",
    "\n",
    "            S_a.pop()\n",
    "            \n",
    "        S_a.append(S_c[current_best_idx])\n",
    "        S_a_idx.append(Sc_idx[current_best_idx])\n",
    "        S_c.pop(current_best_idx)\n",
    "        Sc_idx.pop(current_best_idx)\n",
    "        \n",
    "    return S_a_idx\n",
    "\n"
   ]
  },
  {
   "cell_type": "code",
   "execution_count": 42,
   "metadata": {},
   "outputs": [
    {
     "data": {
      "image/png": "[encoded data removed]",
      "text/plain": [
       "<matplotlib.figure.Figure at 0x7f93afde6050>"
      ]
     },
     "metadata": {},
     "output_type": "display_data"
    },
    {
     "data": {
      "image/png": "[encoded data removed]",
      "text/plain": [
       "<matplotlib.figure.Figure at 0x7f93afc35f90>"
      ]
     },
     "metadata": {},
     "output_type": "display_data"
    },
    {
     "data": {
      "image/png": "[encoded data removed]",
      "text/plain": [
       "<matplotlib.figure.Figure at 0x7f93bc639110>"
      ]
     },
     "metadata": {},
     "output_type": "display_data"
    }
   ],
   "source": [
    "num_images = 10\n",
    "\n",
    "images_cluster1 = np.random.normal(loc=2.0, scale=1.0, size=(400, 1024))\n",
    "images_cluster2 = np.random.normal(loc=4.0, scale=1.0, size=(400, 1024))\n",
    "images_cluster3 = np.random.normal(loc=6.0, scale=1.0, size=(150, 1024))\n",
    "images_outliers = np.random.normal(loc=4.0, scale=3.0, size=(50, 1024))\n",
    "\n",
    "images = np.concatenate((images_cluster1, images_cluster2, images_cluster3, images_outliers), axis=0)\n",
    "\n",
    "\n",
    "#img_cluster1 = np.random.norma(loc=)\n",
    "pca = PCA(n_components=2)\n",
    "\n",
    "pca_img = pca.fit_transform(images)\n",
    "\n",
    "big_k = 8\n",
    "small_k = 4\n",
    "num_iterations = 3\n",
    "S_u = list(images)\n",
    "S_u_idx = range(len(S_u))\n",
    "S_a = [] #These are actual annotated\n",
    "\n",
    "for i in range(num_iterations):\n",
    "    \n",
    "    random_Sc_idx = random.sample(range(len(S_u_idx)), big_k)\n",
    "    S_c = list(images[random_Sc_idx,:])\n",
    "    \n",
    "    S_a_indices = max_rep(S_u, S_c, random_Sc_idx)\n",
    "    S_a.extend(S_a_indices)\n",
    "\n",
    "    S_u_idx = [x for x in range(len(S_u)) if x not in S_a]\n",
    "    plt.figure(i)\n",
    "    plt.scatter(pca_img[S_u_idx, 0], pca_img[S_u_idx, 1], c='b')\n",
    "    plt.scatter(pca_img[S_a, 0], pca_img[S_a, 1], c='r')\n",
    "    "
   ]
  }
 ],
 "metadata": {
  "kernelspec": {
   "display_name": "Python 2",
   "language": "python",
   "name": "python2"
  },
  "language_info": {
   "codemirror_mode": {
    "name": "ipython",
    "version": 2
   },
   "file_extension": ".py",
   "mimetype": "text/x-python",
   "name": "python",
   "nbconvert_exporter": "python",
   "pygments_lexer": "ipython2",
   "version": "2.7.13"
  }
 },
 "nbformat": 4,
 "nbformat_minor": 2
}
